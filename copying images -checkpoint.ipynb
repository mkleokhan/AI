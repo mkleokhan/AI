{
 "cells": [
  {
   "cell_type": "code",
   "execution_count": 9,
   "id": "445d495d",
   "metadata": {},
   "outputs": [],
   "source": [
    "import os\n",
    "import shutil\n",
    "from tqdm import tqdm\n",
    "\n",
    "def copy_images(source_dir, destination_dir, num_images_per_folder):\n",
    "    # Iterate over each folder in the source directory\n",
    "    for folder_name in os.listdir(source_dir):\n",
    "        folder_path = os.path.join(source_dir, folder_name)\n",
    "        # Check if the item in the source directory is a directory\n",
    "        if os.path.isdir(folder_path):\n",
    "            print(f\"Processing folder: {folder_name}\")\n",
    "            # Create a subdirectory in the destination directory for the current folder\n",
    "            destination_folder = os.path.join(destination_dir, folder_name)\n",
    "            os.makedirs(destination_folder, exist_ok=True)\n",
    "            # Counter to keep track of the number of images copied from each folder\n",
    "            num_copied = 0\n",
    "            # Create a progress bar for the current folder\n",
    "            with tqdm(total=num_images_per_folder, desc=folder_name) as pbar:\n",
    "                # Iterate over each file in the current folder\n",
    "                for filename in os.listdir(folder_path):\n",
    "                    # Check if the file is an image (you can add more image extensions if needed)\n",
    "                    if filename.endswith('.jpg') or filename.endswith('.png'):\n",
    "                        # Construct full paths for source and destination files\n",
    "                        source_file = os.path.join(folder_path, filename)\n",
    "                        destination_file = os.path.join(destination_folder, filename)\n",
    "                        # Copy the file to the destination directory\n",
    "                        shutil.copy2(source_file, destination_file)\n",
    "                        # Increment the counter\n",
    "                        num_copied += 1\n",
    "                        # Update the progress bar\n",
    "                        pbar.update(1)\n",
    "                        # Check if the desired number of images has been copied\n",
    "                        if num_copied == num_images_per_folder:\n",
    "                            break  # Exit the loop if the desired number of images has been copied\n",
    "            # Check if the desired number of images has been copied\n",
    "            if num_copied < num_images_per_folder:\n",
    "                print(f\"Warning: Only {num_copied} images available in {folder_name}.\")\n",
    "                print(f\"Copying all available images.\")\n",
    "            # Reset the counter for the next folder\n",
    "            num_copied = 0\n",
    "\n"
   ]
  },
  {
   "cell_type": "code",
   "execution_count": 10,
   "id": "bde8d128",
   "metadata": {},
   "outputs": [
    {
     "name": "stdout",
     "output_type": "stream",
     "text": [
      "Processing folder: angry\n"
     ]
    },
    {
     "name": "stderr",
     "output_type": "stream",
     "text": [
      "angry: 100%|██████████████████████████████████████| 100/100 [00:00<00:00, 745.09it/s]\n"
     ]
    },
    {
     "name": "stdout",
     "output_type": "stream",
     "text": [
      "Processing folder: disgust\n"
     ]
    },
    {
     "name": "stderr",
     "output_type": "stream",
     "text": [
      "disgust: 100%|████████████████████████████████████| 100/100 [00:00<00:00, 934.62it/s]\n"
     ]
    },
    {
     "name": "stdout",
     "output_type": "stream",
     "text": [
      "Processing folder: fear\n"
     ]
    },
    {
     "name": "stderr",
     "output_type": "stream",
     "text": [
      "fear: 100%|███████████████████████████████████████| 100/100 [00:00<00:00, 892.97it/s]\n"
     ]
    },
    {
     "name": "stdout",
     "output_type": "stream",
     "text": [
      "Processing folder: happy\n"
     ]
    },
    {
     "name": "stderr",
     "output_type": "stream",
     "text": [
      "happy: 100%|██████████████████████████████████████| 100/100 [00:00<00:00, 865.87it/s]\n"
     ]
    },
    {
     "name": "stdout",
     "output_type": "stream",
     "text": [
      "Processing folder: neutral\n"
     ]
    },
    {
     "name": "stderr",
     "output_type": "stream",
     "text": [
      "neutral: 100%|████████████████████████████████████| 100/100 [00:00<00:00, 819.66it/s]\n"
     ]
    },
    {
     "name": "stdout",
     "output_type": "stream",
     "text": [
      "Processing folder: sad\n"
     ]
    },
    {
     "name": "stderr",
     "output_type": "stream",
     "text": [
      "sad: 100%|████████████████████████████████████████| 100/100 [00:00<00:00, 787.40it/s]\n"
     ]
    },
    {
     "name": "stdout",
     "output_type": "stream",
     "text": [
      "Processing folder: surprise\n"
     ]
    },
    {
     "name": "stderr",
     "output_type": "stream",
     "text": [
      "surprise: 100%|███████████████████████████████████| 100/100 [00:00<00:00, 781.36it/s]\n"
     ]
    }
   ],
   "source": [
    "\n",
    "# Source and destination directories\n",
    "source_dir = 'D://Research//Research papers and data sets//DataSets//FER//train'\n",
    "destination_dir = 'D://Research//Research papers and data sets//DataSets//FER_Reduced_100//train'\n",
    "# Number of images to copy from each folder\n",
    "num_images_per_folder = 100  # Change this to the desired number of images\n",
    "\n",
    "# Call the function to copy images from source to destination\n",
    "copy_images(source_dir, destination_dir, num_images_per_folder)"
   ]
  },
  {
   "cell_type": "code",
   "execution_count": null,
   "id": "823c1f36",
   "metadata": {},
   "outputs": [],
   "source": []
  }
 ],
 "metadata": {
  "kernelspec": {
   "display_name": "myenv",
   "language": "python",
   "name": "myenv"
  },
  "language_info": {
   "codemirror_mode": {
    "name": "ipython",
    "version": 3
   },
   "file_extension": ".py",
   "mimetype": "text/x-python",
   "name": "python",
   "nbconvert_exporter": "python",
   "pygments_lexer": "ipython3",
   "version": "3.10.13"
  }
 },
 "nbformat": 4,
 "nbformat_minor": 5
}
