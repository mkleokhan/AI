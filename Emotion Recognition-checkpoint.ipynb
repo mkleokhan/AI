{
 "cells": [
  {
   "cell_type": "code",
   "execution_count": 348,
   "id": "cad63244",
   "metadata": {},
   "outputs": [],
   "source": [
    "import tensorflow\n",
    "import cv2 as cv\n",
    "import os\n",
    "import numpy as np\n",
    "import matplotlib.pyplot as plt\n",
    "\n",
    "import tensorflow as tf\n",
    "from tensorflow.keras.layers import Dense, Dropout, Activation, Flatten, Conv2D, MaxPooling2D \n",
    "from tensorflow.keras.models import Sequential\n"
   ]
  },
  {
   "cell_type": "code",
   "execution_count": 349,
   "id": "5455ae01",
   "metadata": {},
   "outputs": [],
   "source": [
    "CATEGORIES = ['happy', 'angry', 'sad', 'fear','neutral','surprise',]\n",
    "DATADIR = 'D://Research//Research papers and data sets//DataSets//FER_Reduced_3000//train'"
   ]
  },
  {
   "cell_type": "code",
   "execution_count": 350,
   "id": "2f13fa5b",
   "metadata": {},
   "outputs": [
    {
     "name": "stdout",
     "output_type": "stream",
     "text": [
      "(48, 48)\n"
     ]
    },
    {
     "data": {
      "image/png": "[encoded data removed]",
      "text/plain": [
       "<Figure size 640x480 with 1 Axes>"
      ]
     },
     "metadata": {},
     "output_type": "display_data"
    }
   ],
   "source": [
    "\n",
    "    \n",
    "for category in CATEGORIES:\n",
    "    path = os.path.join(DATADIR, category)\n",
    "    for img in os.listdir(path):\n",
    "        img_array = cv.imread(os.path.join(path, img), cv.IMREAD_GRAYSCALE)\n",
    "        plt.imshow(img_array, cmap='gray')\n",
    "        print(img_array.shape)\n",
    "        break\n",
    "     \n",
    "    break\n",
    "        \n"
   ]
  },
  {
   "cell_type": "code",
   "execution_count": null,
   "id": "3c1066bc",
   "metadata": {},
   "outputs": [],
   "source": []
  },
  {
   "cell_type": "code",
   "execution_count": 351,
   "id": "c80bbfb1",
   "metadata": {
    "scrolled": true
   },
   "outputs": [],
   "source": [
    "training_data= []\n",
    "\n",
    "def create_training_data():\n",
    "    for category in CATEGORIES:\n",
    "        path = os.path.join(DATADIR, category)\n",
    "        class_num = CATEGORIES.index(category)\n",
    "        for img in os.listdir(path):\n",
    "            img_array = cv.imread(os.path.join(path, img), cv.IMREAD_GRAYSCALE)\n",
    "            training_data.append([img_array, class_num])\n",
    "            \n",
    "            \n",
    "        \n",
    "       \n",
    "       \n",
    "        \n",
    "create_training_data()\n"
   ]
  },
  {
   "cell_type": "code",
   "execution_count": 352,
   "id": "44d25226",
   "metadata": {},
   "outputs": [
    {
     "data": {
      "text/plain": [
       "18000"
      ]
     },
     "execution_count": 352,
     "metadata": {},
     "output_type": "execute_result"
    }
   ],
   "source": [
    "len(training_data)"
   ]
  },
  {
   "cell_type": "code",
   "execution_count": null,
   "id": "d71defa2",
   "metadata": {},
   "outputs": [],
   "source": []
  },
  {
   "cell_type": "code",
   "execution_count": 353,
   "id": "97a8656c",
   "metadata": {},
   "outputs": [],
   "source": [
    "import random\n",
    "random.shuffle(training_data)"
   ]
  },
  {
   "cell_type": "code",
   "execution_count": 354,
   "id": "2368ca09",
   "metadata": {},
   "outputs": [
    {
     "name": "stdout",
     "output_type": "stream",
     "text": [
      "3\n",
      "4\n",
      "1\n",
      "4\n",
      "4\n",
      "5\n",
      "0\n",
      "2\n",
      "1\n",
      "3\n"
     ]
    }
   ],
   "source": [
    "for sample in training_data[0:10]:\n",
    "    print(sample[1])\n",
    "    \n",
    "# is k baaad karoonga"
   ]
  },
  {
   "cell_type": "code",
   "execution_count": 355,
   "id": "66a78486",
   "metadata": {},
   "outputs": [],
   "source": [
    "X = []\n",
    "y = []"
   ]
  },
  {
   "cell_type": "code",
   "execution_count": 356,
   "id": "93b69b98",
   "metadata": {},
   "outputs": [],
   "source": [
    "for features, labels in training_data:\n",
    "    X.append(features)\n",
    "    y.append(labels)"
   ]
  },
  {
   "cell_type": "code",
   "execution_count": 358,
   "id": "e506b843",
   "metadata": {},
   "outputs": [],
   "source": [
    "X = X/255.0"
   ]
  },
  {
   "cell_type": "code",
   "execution_count": 357,
   "id": "3be994b6",
   "metadata": {},
   "outputs": [],
   "source": [
    "X = np.array(X).reshape(-1, 48, 48, 1)"
   ]
  },
  {
   "cell_type": "code",
   "execution_count": 359,
   "id": "0b0c45b1",
   "metadata": {},
   "outputs": [
    {
     "name": "stdout",
     "output_type": "stream",
     "text": [
      "model created\n"
     ]
    }
   ],
   "source": [
    "from tensorflow.keras.models import Sequential\n",
    "from tensorflow.keras.layers import Conv2D, MaxPooling2D, Flatten, Dense, Activation\n",
    "\n",
    "model = Sequential()\n",
    "model.add(Conv2D(32, (3, 3), activation='relu', input_shape=(48, 48, 1)))  # First convolutional layer\n",
    "model.add(Conv2D(64, (3, 3), activation='relu'))  # Second convolutional layer\n",
    "model.add(MaxPooling2D((2, 2)))\n",
    "\n",
    "model.add(Conv2D(128, (3, 3), activation='relu'))  # Third convolutional layer\n",
    "model.add(Conv2D(128, (3, 3), activation='relu'))  # Fourth convolutional layer\n",
    "model.add(MaxPooling2D((2, 2)))\n",
    "\n",
    "model.add(Conv2D(32, (3, 3), activation='relu'))  # Third convolutional layer\n",
    "model.add(Conv2D(32, (3, 3), activation='relu'))  # Fourth convolutional layer\n",
    "model.add(MaxPooling2D((2, 2)))\n",
    "\n",
    "\n",
    "model.add(Flatten())\n",
    "model.add(Dense(64, activation='relu'))  # Dense layer with ReLU activation\n",
    "\n",
    "model.add(Dense(6, activation='softmax'))  # Output layer with 7 neurons for multi-class classification\n",
    "\n",
    "print('model created')\n"
   ]
  },
  {
   "cell_type": "code",
   "execution_count": 360,
   "id": "17bcb63c",
   "metadata": {},
   "outputs": [
    {
     "name": "stdout",
     "output_type": "stream",
     "text": [
      "Model: \"sequential_20\"\n",
      "_________________________________________________________________\n",
      " Layer (type)                Output Shape              Param #   \n",
      "=================================================================\n",
      " conv2d_116 (Conv2D)         (None, 46, 46, 32)        320       \n",
      "                                                                 \n",
      " conv2d_117 (Conv2D)         (None, 44, 44, 64)        18496     \n",
      "                                                                 \n",
      " max_pooling2d_52 (MaxPoolin  (None, 22, 22, 64)       0         \n",
      " g2D)                                                            \n",
      "                                                                 \n",
      " conv2d_118 (Conv2D)         (None, 20, 20, 128)       73856     \n",
      "                                                                 \n",
      " conv2d_119 (Conv2D)         (None, 18, 18, 128)       147584    \n",
      "                                                                 \n",
      " max_pooling2d_53 (MaxPoolin  (None, 9, 9, 128)        0         \n",
      " g2D)                                                            \n",
      "                                                                 \n",
      " conv2d_120 (Conv2D)         (None, 7, 7, 32)          36896     \n",
      "                                                                 \n",
      " conv2d_121 (Conv2D)         (None, 5, 5, 32)          9248      \n",
      "                                                                 \n",
      " max_pooling2d_54 (MaxPoolin  (None, 2, 2, 32)         0         \n",
      " g2D)                                                            \n",
      "                                                                 \n",
      " flatten_19 (Flatten)        (None, 128)               0         \n",
      "                                                                 \n",
      " dense_38 (Dense)            (None, 64)                8256      \n",
      "                                                                 \n",
      " dense_39 (Dense)            (None, 6)                 390       \n",
      "                                                                 \n",
      "=================================================================\n",
      "Total params: 295,046\n",
      "Trainable params: 295,046\n",
      "Non-trainable params: 0\n",
      "_________________________________________________________________\n"
     ]
    }
   ],
   "source": [
    "model.summary()"
   ]
  },
  {
   "cell_type": "code",
   "execution_count": null,
   "id": "7aa6ce0f",
   "metadata": {},
   "outputs": [],
   "source": []
  },
  {
   "cell_type": "code",
   "execution_count": 377,
   "id": "b8d34f0e",
   "metadata": {},
   "outputs": [],
   "source": [
    "from sklearn.model_selection import train_test_split\n",
    "from tensorflow.keras.utils import to_categorical\n",
    "\n",
    "# Split the data into training and validation sets\n",
    "X_train, X_val, y_train, y_val = train_test_split(X, y, test_size=0.3, random_state=42)\n",
    "\n",
    "num_classes = len(CATEGORIES)\n",
    "y_train = to_categorical(y_train, num_classes)\n",
    "y_val = to_categorical(y_val, num_classes)"
   ]
  },
  {
   "cell_type": "code",
   "execution_count": 362,
   "id": "3512e0f7",
   "metadata": {},
   "outputs": [
    {
     "name": "stdout",
     "output_type": "stream",
     "text": [
      "Epoch 1/20\n",
      "394/394 [==============================] - 90s 225ms/step - loss: 1.7611 - accuracy: 0.2118 - val_loss: 1.6790 - val_accuracy: 0.2731\n",
      "Epoch 2/20\n",
      "394/394 [==============================] - 80s 203ms/step - loss: 1.6342 - accuracy: 0.3160 - val_loss: 1.7335 - val_accuracy: 0.2820\n",
      "Epoch 3/20\n",
      "394/394 [==============================] - 78s 199ms/step - loss: 1.5227 - accuracy: 0.3835 - val_loss: 1.5013 - val_accuracy: 0.3774\n",
      "Epoch 4/20\n",
      "394/394 [==============================] - 95s 240ms/step - loss: 1.4212 - accuracy: 0.4336 - val_loss: 1.3829 - val_accuracy: 0.4526\n",
      "Epoch 5/20\n",
      "394/394 [==============================] - 83s 210ms/step - loss: 1.3445 - accuracy: 0.4684 - val_loss: 1.3495 - val_accuracy: 0.4619\n",
      "Epoch 6/20\n",
      "394/394 [==============================] - 102s 258ms/step - loss: 1.2712 - accuracy: 0.4998 - val_loss: 1.2986 - val_accuracy: 0.4800\n",
      "Epoch 7/20\n",
      "394/394 [==============================] - 107s 272ms/step - loss: 1.2168 - accuracy: 0.5240 - val_loss: 1.3061 - val_accuracy: 0.4737\n",
      "Epoch 8/20\n",
      "394/394 [==============================] - 106s 268ms/step - loss: 1.1567 - accuracy: 0.5513 - val_loss: 1.2649 - val_accuracy: 0.5024\n",
      "Epoch 9/20\n",
      "394/394 [==============================] - 106s 268ms/step - loss: 1.1024 - accuracy: 0.5744 - val_loss: 1.2824 - val_accuracy: 0.5067\n",
      "Epoch 10/20\n",
      "394/394 [==============================] - 109s 278ms/step - loss: 1.0412 - accuracy: 0.5922 - val_loss: 1.3058 - val_accuracy: 0.5033\n",
      "Epoch 11/20\n",
      "394/394 [==============================] - 107s 270ms/step - loss: 0.9822 - accuracy: 0.6218 - val_loss: 1.2510 - val_accuracy: 0.5102\n",
      "Epoch 12/20\n",
      "394/394 [==============================] - 105s 265ms/step - loss: 0.9107 - accuracy: 0.6502 - val_loss: 1.4221 - val_accuracy: 0.5144\n",
      "Epoch 13/20\n",
      "394/394 [==============================] - 109s 276ms/step - loss: 0.8396 - accuracy: 0.6780 - val_loss: 1.3927 - val_accuracy: 0.5048\n",
      "Epoch 14/20\n",
      "394/394 [==============================] - 106s 270ms/step - loss: 0.7636 - accuracy: 0.7099 - val_loss: 1.4878 - val_accuracy: 0.5106\n",
      "Epoch 15/20\n",
      "394/394 [==============================] - 107s 273ms/step - loss: 0.6942 - accuracy: 0.7387 - val_loss: 1.6401 - val_accuracy: 0.5128\n",
      "Epoch 16/20\n",
      "394/394 [==============================] - 109s 277ms/step - loss: 0.6260 - accuracy: 0.7647 - val_loss: 1.5969 - val_accuracy: 0.5115\n",
      "Epoch 17/20\n",
      "394/394 [==============================] - 106s 270ms/step - loss: 0.5430 - accuracy: 0.7979 - val_loss: 1.7723 - val_accuracy: 0.5070\n",
      "Epoch 18/20\n",
      "394/394 [==============================] - 107s 270ms/step - loss: 0.4813 - accuracy: 0.8214 - val_loss: 1.8049 - val_accuracy: 0.5106\n",
      "Epoch 19/20\n",
      "394/394 [==============================] - 106s 269ms/step - loss: 0.4329 - accuracy: 0.8409 - val_loss: 2.0308 - val_accuracy: 0.5056\n",
      "Epoch 20/20\n",
      "394/394 [==============================] - 108s 274ms/step - loss: 0.3739 - accuracy: 0.8664 - val_loss: 2.2997 - val_accuracy: 0.4781\n"
     ]
    }
   ],
   "source": [
    "model.compile(loss= 'categorical_crossentropy', metrics =['accuracy'])\n",
    "history = model.fit(X_train, y_train, batch_size=32, epochs=20, validation_data=(X_val, y_val))"
   ]
  },
  {
   "cell_type": "code",
   "execution_count": 378,
   "id": "1aa792f1",
   "metadata": {},
   "outputs": [
    {
     "data": {
      "image/png": "[encoded data removed]",
      "text/plain": [
       "<Figure size 640x480 with 1 Axes>"
      ]
     },
     "metadata": {},
     "output_type": "display_data"
    },
    {
     "data": {
      "image/png": "[encoded data removed]",
      "text/plain": [
       "<Figure size 640x480 with 1 Axes>"
      ]
     },
     "metadata": {},
     "output_type": "display_data"
    }
   ],
   "source": [
    "# Plot training & validation accuracy values\n",
    "plt.plot(history.history['accuracy'])\n",
    "plt.plot(history.history['val_accuracy'])\n",
    "plt.title('Model accuracy')\n",
    "plt.ylabel('Accuracy')\n",
    "plt.xlabel('Epoch')\n",
    "plt.legend(['Train', 'Validation'], loc='upper left')\n",
    "plt.show()\n",
    "\n",
    "# Plot training & validation loss values\n",
    "plt.plot(history.history['loss'])\n",
    "plt.plot(history.history['val_loss'])\n",
    "plt.title('Model loss')\n",
    "plt.ylabel('Loss')\n",
    "plt.xlabel('Epoch')\n",
    "plt.legend(['Train', 'Validation'], loc='upper left')\n",
    "plt.show()\n"
   ]
  },
  {
   "cell_type": "code",
   "execution_count": 408,
   "id": "896ce856",
   "metadata": {},
   "outputs": [],
   "source": [
    "CATEGORIES = ['happy', 'angry', 'sad', 'fear','neutral','surprise','']\n",
    "DATADIR = 'D://Research//Research papers and data sets//DataSets//FER_Reduced_3000//test'\n",
    "\n",
    "testData= []\n",
    "\n",
    "def create_test_data():\n",
    "    for category in CATEGORIES:\n",
    "        path = os.path.join(DATADIR, category)\n",
    "        class_num = CATEGORIES.index(category)\n",
    "        for img in os.listdir(path):\n",
    "            img_array = cv.imread(os.path.join(path, img), cv.IMREAD_GRAYSCALE)\n",
    "            testData.append([img_array, class_num])\n",
    "            \n",
    "            \n",
    "        \n",
    "       \n",
    "       \n",
    "        \n",
    "create_test_data()\n"
   ]
  },
  {
   "cell_type": "code",
   "execution_count": 409,
   "id": "7c3a7261",
   "metadata": {},
   "outputs": [
    {
     "data": {
      "text/plain": [
       "4806"
      ]
     },
     "execution_count": 409,
     "metadata": {},
     "output_type": "execute_result"
    }
   ],
   "source": [
    "len(testData)"
   ]
  },
  {
   "cell_type": "code",
   "execution_count": 410,
   "id": "45bd4730",
   "metadata": {},
   "outputs": [],
   "source": [
    "X_test= []\n",
    "y_test= []\n",
    "for test_features, testLabels in testData:\n",
    "    X_test.append(test_features)\n",
    "    y_test.append(testLabels)"
   ]
  },
  {
   "cell_type": "code",
   "execution_count": 411,
   "id": "97e65c0b",
   "metadata": {},
   "outputs": [
    {
     "data": {
      "text/plain": [
       "4806"
      ]
     },
     "execution_count": 411,
     "metadata": {},
     "output_type": "execute_result"
    }
   ],
   "source": [
    "len(X_test)"
   ]
  },
  {
   "cell_type": "code",
   "execution_count": 412,
   "id": "39c22363",
   "metadata": {},
   "outputs": [
    {
     "data": {
      "text/plain": [
       "4806"
      ]
     },
     "execution_count": 412,
     "metadata": {},
     "output_type": "execute_result"
    }
   ],
   "source": [
    "len(y_test)"
   ]
  },
  {
   "cell_type": "code",
   "execution_count": 413,
   "id": "0b207a1e",
   "metadata": {},
   "outputs": [],
   "source": [
    "# X_test = to_categorical(X_test, num_classes)\n",
    "y_test = to_categorical(y_test, num_classes)"
   ]
  },
  {
   "cell_type": "code",
   "execution_count": 414,
   "id": "9fb5128d",
   "metadata": {},
   "outputs": [
    {
     "data": {
      "text/plain": [
       "4806"
      ]
     },
     "execution_count": 414,
     "metadata": {},
     "output_type": "execute_result"
    }
   ],
   "source": [
    "len(y_test)"
   ]
  },
  {
   "cell_type": "code",
   "execution_count": 415,
   "id": "b3b2976b",
   "metadata": {},
   "outputs": [
    {
     "data": {
      "text/plain": [
       "4806"
      ]
     },
     "execution_count": 415,
     "metadata": {},
     "output_type": "execute_result"
    }
   ],
   "source": [
    "len(X_test)"
   ]
  },
  {
   "cell_type": "code",
   "execution_count": 426,
   "id": "39bd33d3",
   "metadata": {},
   "outputs": [
    {
     "data": {
      "text/plain": [
       "4806"
      ]
     },
     "execution_count": 426,
     "metadata": {},
     "output_type": "execute_result"
    }
   ],
   "source": [
    "len(X_test)"
   ]
  },
  {
   "cell_type": "code",
   "execution_count": 429,
   "id": "d371f96b",
   "metadata": {},
   "outputs": [
    {
     "ename": "ValueError",
     "evalue": "setting an array element with a sequence. The requested array has an inhomogeneous shape after 1 dimensions. The detected shape was (4806,) + inhomogeneous part.",
     "output_type": "error",
     "traceback": [
      "\u001b[1;31m---------------------------------------------------------------------------\u001b[0m",
      "\u001b[1;31mValueError\u001b[0m                                Traceback (most recent call last)",
      "Cell \u001b[1;32mIn[429], line 1\u001b[0m\n\u001b[1;32m----> 1\u001b[0m X_test \u001b[38;5;241m=\u001b[39m \u001b[43mnp\u001b[49m\u001b[38;5;241;43m.\u001b[39;49m\u001b[43marray\u001b[49m\u001b[43m(\u001b[49m\u001b[43mX_test\u001b[49m\u001b[43m)\u001b[49m\n",
      "\u001b[1;31mValueError\u001b[0m: setting an array element with a sequence. The requested array has an inhomogeneous shape after 1 dimensions. The detected shape was (4806,) + inhomogeneous part."
     ]
    }
   ],
   "source": [
    "X_test = np.array(X_test)"
   ]
  },
  {
   "cell_type": "code",
   "execution_count": 425,
   "id": "3fc1a2c8",
   "metadata": {},
   "outputs": [
    {
     "ename": "ValueError",
     "evalue": "setting an array element with a sequence. The requested array has an inhomogeneous shape after 1 dimensions. The detected shape was (4806,) + inhomogeneous part.",
     "output_type": "error",
     "traceback": [
      "\u001b[1;31m---------------------------------------------------------------------------\u001b[0m",
      "\u001b[1;31mValueError\u001b[0m                                Traceback (most recent call last)",
      "Cell \u001b[1;32mIn[425], line 1\u001b[0m\n\u001b[1;32m----> 1\u001b[0m X_test \u001b[38;5;241m=\u001b[39m \u001b[43mnp\u001b[49m\u001b[38;5;241;43m.\u001b[39;49m\u001b[43marray\u001b[49m\u001b[43m(\u001b[49m\u001b[43mX_test\u001b[49m\u001b[43m)\u001b[49m\u001b[38;5;241m.\u001b[39mreshape( )\n",
      "\u001b[1;31mValueError\u001b[0m: setting an array element with a sequence. The requested array has an inhomogeneous shape after 1 dimensions. The detected shape was (4806,) + inhomogeneous part."
     ]
    }
   ],
   "source": [
    "X_test = np.array(X_test).reshape( )"
   ]
  },
  {
   "cell_type": "code",
   "execution_count": 420,
   "id": "f0434639",
   "metadata": {},
   "outputs": [
    {
     "ename": "ValueError",
     "evalue": "setting an array element with a sequence. The requested array has an inhomogeneous shape after 1 dimensions. The detected shape was (4806,) + inhomogeneous part.",
     "output_type": "error",
     "traceback": [
      "\u001b[1;31m---------------------------------------------------------------------------\u001b[0m",
      "\u001b[1;31mValueError\u001b[0m                                Traceback (most recent call last)",
      "Cell \u001b[1;32mIn[420], line 2\u001b[0m\n\u001b[0;32m      1\u001b[0m \u001b[38;5;66;03m# Reshape test data\u001b[39;00m\n\u001b[1;32m----> 2\u001b[0m X_test \u001b[38;5;241m=\u001b[39m \u001b[43mnp\u001b[49m\u001b[38;5;241;43m.\u001b[39;49m\u001b[43marray\u001b[49m\u001b[43m(\u001b[49m\u001b[43mX_test\u001b[49m\u001b[43m)\u001b[49m\u001b[38;5;241m.\u001b[39mreshape(\u001b[38;5;241m-\u001b[39m\u001b[38;5;241m1\u001b[39m, \u001b[38;5;241m48\u001b[39m, \u001b[38;5;241m48\u001b[39m, )\n\u001b[0;32m      4\u001b[0m \u001b[38;5;66;03m# Assuming you have a separate test dataset X_test and y_test\u001b[39;00m\n\u001b[0;32m      5\u001b[0m \n\u001b[0;32m      6\u001b[0m \u001b[38;5;66;03m# Evaluate the model on the test dataset\u001b[39;00m\n\u001b[0;32m      7\u001b[0m test_loss, test_accuracy \u001b[38;5;241m=\u001b[39m model\u001b[38;5;241m.\u001b[39mevaluate(X_test, y_test)\n",
      "\u001b[1;31mValueError\u001b[0m: setting an array element with a sequence. The requested array has an inhomogeneous shape after 1 dimensions. The detected shape was (4806,) + inhomogeneous part."
     ]
    }
   ],
   "source": [
    "# Reshape test data\n",
    "X_test = np.array(X_test).reshape(-1, 48, 48, )\n",
    "\n",
    "# Assuming you have a separate test dataset X_test and y_test\n",
    "\n",
    "# Evaluate the model on the test dataset\n",
    "test_loss, test_accuracy = model.evaluate(X_test, y_test)\n",
    "\n",
    "print(\"Test Loss:\", test_loss)\n",
    "print(\"Test Accuracy:\", test_accuracy)\n",
    "\n"
   ]
  },
  {
   "cell_type": "code",
   "execution_count": null,
   "id": "11e7b4ef",
   "metadata": {},
   "outputs": [],
   "source": []
  },
  {
   "cell_type": "code",
   "execution_count": null,
   "id": "55192893",
   "metadata": {},
   "outputs": [],
   "source": []
  }
 ],
 "metadata": {
  "kernelspec": {
   "display_name": "myenv",
   "language": "python",
   "name": "myenv"
  },
  "language_info": {
   "codemirror_mode": {
    "name": "ipython",
    "version": 3
   },
   "file_extension": ".py",
   "mimetype": "text/x-python",
   "name": "python",
   "nbconvert_exporter": "python",
   "pygments_lexer": "ipython3",
   "version": "3.10.13"
  }
 },
 "nbformat": 4,
 "nbformat_minor": 5
}
